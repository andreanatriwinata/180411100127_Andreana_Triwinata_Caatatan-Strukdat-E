{
 "cells": [
  {
   "cell_type": "code",
   "execution_count": 12,
   "metadata": {},
   "outputs": [
    {
     "name": "stdout",
     "output_type": "stream",
     "text": [
      "Found the search number:\n",
      "0\n"
     ]
    }
   ],
   "source": [
    "#search dari depan\n",
    "search=2\n",
    "myList=[1,2,3,4,5,6]\n",
    "position=myList[0]\n",
    "last=len(myList)-1\n",
    "found=True\n",
    "while position <= last and not found:\n",
    "    while myList[position]==search:\n",
    "        found=False\n",
    "    else:\n",
    "        position=position+1\n",
    "if found:\n",
    "    print(\"Found the search number:\")\n",
    "    print(position)\n",
    "else:\n",
    "    print(\"Did not find the search number:\")"
   ]
  },
  {
   "cell_type": "code",
   "execution_count": 16,
   "metadata": {},
   "outputs": [
    {
     "name": "stdout",
     "output_type": "stream",
     "text": [
      "Did not find the seacrh number:\n",
      "Did not find the seacrh number:\n",
      "Did not find the seacrh number:\n",
      "Did not find the seacrh number:\n",
      "Did not find the seacrh number:\n",
      "Did not find the seacrh number:\n"
     ]
    }
   ],
   "source": [
    "#for\n",
    "seacrh=2\n",
    "myList=[1,2,3,4,5,6]\n",
    "position=0\n",
    "last=len(myList)-1\n",
    "found=False\n",
    "for i in myList:\n",
    "    if myList[position]==search:\n",
    "       found=True\n",
    "    elif found:\n",
    "       print(\"Found the seacrh number:\")\n",
    "       print(position)\n",
    "    else:\n",
    "       print(\"Did not find the seacrh number:\")"
   ]
  },
  {
   "cell_type": "code",
   "execution_count": 10,
   "metadata": {},
   "outputs": [
    {
     "name": "stdout",
     "output_type": "stream",
     "text": [
      "Did not find the search number:\n",
      "Did not find the search number:\n",
      "Did not find the search number:\n",
      "Did not find the search number:\n"
     ]
    }
   ],
   "source": [
    "#search dari belakang\n",
    "search=2\n",
    "myList=[1,2,3,4,5,6]\n",
    "position=len(myList)-1\n",
    "last=0\n",
    "found=False\n",
    "while position >= last and not found:\n",
    "    if myList[position]==search:\n",
    "        found=True\n",
    "    else:\n",
    "        position=position-1\n",
    "        if found:\n",
    "            print(\"Found the search number:\")\n",
    "            print(position)\n",
    "        else:\n",
    "            print(\"Did not find the search number:\")"
   ]
  },
  {
   "cell_type": "code",
   "execution_count": 20,
   "metadata": {},
   "outputs": [
    {
     "ename": "TypeError",
     "evalue": "'int' object is not subscriptable",
     "output_type": "error",
     "traceback": [
      "\u001b[1;31m---------------------------------------------------------------------------\u001b[0m",
      "\u001b[1;31mTypeError\u001b[0m                                 Traceback (most recent call last)",
      "\u001b[1;32m<ipython-input-20-2ec1691ee1d2>\u001b[0m in \u001b[0;36m<module>\u001b[1;34m()\u001b[0m\n\u001b[0;32m     15\u001b[0m         \u001b[1;32melse\u001b[0m\u001b[1;33m:\u001b[0m\u001b[1;33m\u001b[0m\u001b[0m\n\u001b[0;32m     16\u001b[0m             \u001b[0mprint\u001b[0m\u001b[1;33m(\u001b[0m\u001b[1;34m\"Did not found the search number:\"\u001b[0m\u001b[1;33m)\u001b[0m\u001b[1;33m\u001b[0m\u001b[0m\n\u001b[1;32m---> 17\u001b[1;33m \u001b[0mderet\u001b[0m\u001b[1;33m(\u001b[0m\u001b[1;36m2\u001b[0m\u001b[1;33m[\u001b[0m\u001b[1;36m1\u001b[0m\u001b[1;33m,\u001b[0m\u001b[1;36m2\u001b[0m\u001b[1;33m,\u001b[0m\u001b[1;36m3\u001b[0m\u001b[1;33m,\u001b[0m\u001b[1;36m4\u001b[0m\u001b[1;33m,\u001b[0m\u001b[1;36m5\u001b[0m\u001b[1;33m,\u001b[0m\u001b[1;36m6\u001b[0m\u001b[1;33m]\u001b[0m\u001b[1;33m)\u001b[0m\u001b[1;33m\u001b[0m\u001b[0m\n\u001b[0m",
      "\u001b[1;31mTypeError\u001b[0m: 'int' object is not subscriptable"
     ]
    }
   ],
   "source": [
    "#function\n",
    "#search dari depan\n",
    "def deret (search, myList):\n",
    "    position=0\n",
    "    last=len(myList)-1\n",
    "    found=False\n",
    "    while position <= last and not found:\n",
    "        if myList[position]==search:\n",
    "            found=True\n",
    "        else:\n",
    "            position=position+1\n",
    "        if found:\n",
    "            print(\"found the search number:\")\n",
    "            print(position)\n",
    "        else:\n",
    "            print(\"Did not found the search number:\")\n",
    "deret(2[1,2,3,4,5,6])"
   ]
  },
  {
   "cell_type": "code",
   "execution_count": null,
   "metadata": {},
   "outputs": [],
   "source": []
  }
 ],
 "metadata": {
  "kernelspec": {
   "display_name": "Python 3",
   "language": "python",
   "name": "python3"
  },
  "language_info": {
   "codemirror_mode": {
    "name": "ipython",
    "version": 3
   },
   "file_extension": ".py",
   "mimetype": "text/x-python",
   "name": "python",
   "nbconvert_exporter": "python",
   "pygments_lexer": "ipython3",
   "version": "3.6.5"
  }
 },
 "nbformat": 4,
 "nbformat_minor": 2
}
