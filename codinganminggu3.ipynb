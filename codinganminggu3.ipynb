{
 "cells": [
  {
   "cell_type": "code",
   "execution_count": 1,
   "metadata": {},
   "outputs": [
    {
     "ename": "SyntaxError",
     "evalue": "invalid syntax (<ipython-input-1-94f92e1e0740>, line 11)",
     "output_type": "error",
     "traceback": [
      "\u001b[1;36m  File \u001b[1;32m\"<ipython-input-1-94f92e1e0740>\"\u001b[1;36m, line \u001b[1;32m11\u001b[0m\n\u001b[1;33m    if myList[midle]\u001b[0m\n\u001b[1;37m                    ^\u001b[0m\n\u001b[1;31mSyntaxError\u001b[0m\u001b[1;31m:\u001b[0m invalid syntax\n"
     ]
    }
   ],
   "source": [
    "search=2\n",
    "myList=[1,2,3,4,5]\n",
    "position=0\n",
    "last=len(myList)-1\n",
    "midle=position+1\n",
    "found=False\n",
    "while position <= last and not found:\n",
    "    if myList[midle] == search:\n",
    "        found=True\n",
    "    else:\n",
    "        if myList[midle]\n",
    "        midle=midle-1\n",
    "        position=position-1\n",
    "    if found:\n",
    "        print(\"found the search number.\")\n",
    "        print(position)\n",
    "    else:\n",
    "        print(\"did not find the search number.\")"
   ]
  },
  {
   "cell_type": "code",
   "execution_count": null,
   "metadata": {},
   "outputs": [],
   "source": [
    "first=0\n",
    "last=len-1\n",
    "midle=first+last / 2\n",
    "\n",
    "list[midle] == search:\n",
    "    if  <= search:\n",
    "        last=midle - 1"
   ]
  },
  {
   "cell_type": "code",
   "execution_count": 5,
   "metadata": {},
   "outputs": [
    {
     "ename": "NameError",
     "evalue": "name 'middle' is not defined",
     "output_type": "error",
     "traceback": [
      "\u001b[1;31m---------------------------------------------------------------------------\u001b[0m",
      "\u001b[1;31mNameError\u001b[0m                                 Traceback (most recent call last)",
      "\u001b[1;32m<ipython-input-5-b746ca2e425f>\u001b[0m in \u001b[0;36m<module>\u001b[1;34m()\u001b[0m\n\u001b[0;32m      6\u001b[0m \u001b[0mfound\u001b[0m\u001b[1;33m=\u001b[0m\u001b[1;32mFalse\u001b[0m\u001b[1;33m\u001b[0m\u001b[0m\n\u001b[0;32m      7\u001b[0m \u001b[1;32mwhile\u001b[0m \u001b[0mposition\u001b[0m \u001b[1;33m<=\u001b[0m \u001b[0mlast\u001b[0m \u001b[1;32mand\u001b[0m \u001b[1;32mnot\u001b[0m \u001b[0mfound\u001b[0m\u001b[1;33m:\u001b[0m\u001b[1;33m\u001b[0m\u001b[0m\n\u001b[1;32m----> 8\u001b[1;33m     \u001b[1;32mif\u001b[0m \u001b[0mmyList\u001b[0m\u001b[1;33m[\u001b[0m\u001b[0mmiddle\u001b[0m\u001b[1;33m]\u001b[0m \u001b[1;33m==\u001b[0m \u001b[0msearch\u001b[0m\u001b[1;33m:\u001b[0m\u001b[1;33m\u001b[0m\u001b[0m\n\u001b[0m\u001b[0;32m      9\u001b[0m         \u001b[0mfound\u001b[0m\u001b[1;33m=\u001b[0m\u001b[1;32mTrue\u001b[0m\u001b[1;33m\u001b[0m\u001b[0m\n\u001b[0;32m     10\u001b[0m     \u001b[1;32melse\u001b[0m\u001b[1;33m:\u001b[0m\u001b[1;33m\u001b[0m\u001b[0m\n",
      "\u001b[1;31mNameError\u001b[0m: name 'middle' is not defined"
     ]
    }
   ],
   "source": [
    "search=2\n",
    "myList=[1,2,4,5,6]\n",
    "position=0\n",
    "last=len(myList) - 1\n",
    "midle=(position+last) / 2\n",
    "found=False\n",
    "while position <= last and not found:\n",
    "    if myList[middle] == search:\n",
    "        found=True\n",
    "    else:\n",
    "        if myList[middle] <= search:\n",
    "            midle=middle - 1\n",
    "        else:\n",
    "            position=middle + 1\n",
    "    if found:\n",
    "        print(\"found the search number.\")\n",
    "        print(position)\n",
    "    else:\n",
    "        print(\"did not found the search number.\")\n",
    "        "
   ]
  },
  {
   "cell_type": "code",
   "execution_count": null,
   "metadata": {},
   "outputs": [],
   "source": [
    "search=2\n",
    "myList=[1,2,4,5,6]\n",
    "position=0\n",
    "last=len(myList)-1\n",
    "middle=(position+last)/2\n",
    "found=False\n",
    "\n",
    "while position <= last and not found:\n",
    "    middle=(position+last)//2"
   ]
  },
  {
   "cell_type": "code",
   "execution_count": 6,
   "metadata": {},
   "outputs": [
    {
     "ename": "SyntaxError",
     "evalue": "invalid syntax (<ipython-input-6-2207ada1d2f3>, line 1)",
     "output_type": "error",
     "traceback": [
      "\u001b[1;36m  File \u001b[1;32m\"<ipython-input-6-2207ada1d2f3>\"\u001b[1;36m, line \u001b[1;32m1\u001b[0m\n\u001b[1;33m    search=\u001b[0m\n\u001b[1;37m           ^\u001b[0m\n\u001b[1;31mSyntaxError\u001b[0m\u001b[1;31m:\u001b[0m invalid syntax\n"
     ]
    }
   ],
   "source": [
    "search=\n",
    "myList=[3,1,4,4,5,6]\n",
    "myList.sort()\n",
    "first=0\n",
    "last=len(myList)-1\n",
    "found=False\n",
    "middle=(first+last)//2\n",
    "\n",
    "while first <= last and not found:\n",
    "    if myList[middle]==search:\n",
    "        found=True\n",
    "    else:\n",
    "        if search < myList[middle]:\n",
    "            last=middle-1\n",
    "        else:\n",
    "            middle+1\n",
    "    if found:\n",
    "        print(\"found the search number.\")\n",
    "        print(middle)\n",
    "    else:\n",
    "        print(\"did not found the search number.\")"
   ]
  },
  {
   "cell_type": "code",
   "execution_count": null,
   "metadata": {},
   "outputs": [],
   "source": [
    "myList=[3,1,4,4,5,6]\n",
    "myList.sort()\n",
    "first=0\n",
    "last=len(myList)-1\n",
    "found=False\n",
    "\n",
    "while first <= last and not found:\n",
    "    middle=(first+last)//2\n",
    "    if myList[middle]==search:\n",
    "        found=True\n",
    "    else:\n",
    "        if search < myList[middle]:\n",
    "            last=middle-1\n",
    "        else:\n",
    "            first=middle+1\n",
    "    if found:\n",
    "            print(\"found the search number.\")\n",
    "            print(middle)\n",
    "    else:\n",
    "            print(\"did not found the search number.\")"
   ]
  },
  {
   "cell_type": "code",
   "execution_count": null,
   "metadata": {},
   "outputs": [],
   "source": [
    "#input 100 bilangan, hitung iterasi, bandingkan dengan linier search\n",
    "\n",
    "search=77\n",
    "myList=(4,5,6,7,8,85,44,6,3,66,7,4,35,78,90,56,67,78,99,12,23,34,45,56,67,78,3,4,7,8,6,2,1,9,5,3,89,98,87,76,65,54,43,32,21)\n",
    "myList.sort()\n",
    "position=0\n",
    "iteration=0\n",
    "last=len(myList)-1\n",
    "found=False\n",
    "\n",
    "#main program\n",
    "while position <= last and not found:\n",
    "    middle=(position+last)//2\n",
    "    iteration=iteration+1\n",
    "    if myList[middle]==search:\n",
    "        last=middle-1\n",
    "    else:\n",
    "        found=True\n",
    "    if found:\n",
    "        print(\"found the search number.\")\n",
    "        print(middle)\n",
    "    else:\n",
    "        print(\"did not found the search number.\")"
   ]
  },
  {
   "cell_type": "code",
   "execution_count": null,
   "metadata": {},
   "outputs": [],
   "source": [
    "search=2\n",
    "myList=[3,1,4,4,5,6]\n",
    "myList.sort()\n",
    "first=0\n",
    "last=len(myList)-1\n",
    "found=False\n",
    "\n",
    "while first <= last and not found:\n",
    "    middle=(first+last)//2\n",
    "    if myList[middle]==search:\n",
    "        found=True\n",
    "    else:\n",
    "        if search < myList[middle]:\n",
    "            last=middle-1\n",
    "        else:\n",
    "            first=middle+1\n",
    "    if found:\n",
    "            print(\"found the search number.\")\n",
    "            print(middle)\n",
    "    else:\n",
    "            print(\"did not found the search number.\")"
   ]
  },
  {
   "cell_type": "code",
   "execution_count": null,
   "metadata": {},
   "outputs": [],
   "source": [
    "#hashing\n",
    "table=[None]*11\n",
    "\n",
    "def hash(x):\n",
    "    return x % 11\n",
    "\n",
    "def insert(table,key,value):\n",
    "    index=hash(key)\n",
    "    if table[index]==None:\n",
    "        table[index]=value\n",
    "    else:\n",
    "        collusion=index\n",
    "        found=False\n",
    "        ind=collusion+1, mod 11\n",
    "        if ind>=len(table)-1:\n",
    "        ind=0\n",
    "    ind = 0\n",
    "    found = False\n",
    "    while (ind<=len(table)-1) and not(found):\n",
    "        if table[ind]!=None:\n",
    "            found=True\n",
    "            table[ind]=value\n",
    "        ind=ind+1\n",
    "        \n",
    "print(table)\n",
    "insert(table,54,54)\n",
    "print(table)\n",
    "insert(table,26,26)\n",
    "print(table)\n",
    "insert(table,93,93)\n",
    "print(table)\n",
    "insert(table,17,17)\n",
    "print(table)\n",
    "insert(table,77,77)\n",
    "print(table)\n",
    "insert(table,31,31)\n",
    "print(table)\n",
    "insert(table,44,44)\n",
    "print(table)\n",
    "insert(table,55,55)\n",
    "print(table)\n",
    "insert(table,20,20)"
   ]
  },
  {
   "cell_type": "code",
   "execution_count": 1,
   "metadata": {},
   "outputs": [
    {
     "ename": "SyntaxError",
     "evalue": "invalid syntax (<ipython-input-1-fd1dcf28b7f2>, line 14)",
     "output_type": "error",
     "traceback": [
      "\u001b[1;36m  File \u001b[1;32m\"<ipython-input-1-fd1dcf28b7f2>\"\u001b[1;36m, line \u001b[1;32m14\u001b[0m\n\u001b[1;33m    ind=collusion+1, mod 11\u001b[0m\n\u001b[1;37m                          ^\u001b[0m\n\u001b[1;31mSyntaxError\u001b[0m\u001b[1;31m:\u001b[0m invalid syntax\n"
     ]
    }
   ],
   "source": [
    "table=[None]*11\n",
    "\n",
    "def hash(x):\n",
    "    return x % 11\n",
    "\n",
    "def insert(table,key,value):\n",
    "    index=hash(key)\n",
    "    if table[index]==None:\n",
    "        table[index]=value\n",
    "    else:\n",
    "        collusion=index\n",
    "        found=False\n",
    "        ind=collusion\n",
    "        ind=collusion+1, mod 11\n",
    "        i=1\n",
    "        if ind>=len(table)-1:\n",
    "            ind=0\n",
    "    ind = 0\n",
    "    found = False\n",
    "    while (ind<=len(table)-1) and not(found):\n",
    "        if table[ind]!=None:\n",
    "            found=True\n",
    "            table[ind]=value\n",
    "        ind=ind+1//ind=(collusion+(i*i))%11\n",
    "        \n",
    "print(table)\n",
    "insert(table,54,54)\n",
    "print(table)\n",
    "insert(table,26,26)\n",
    "print(table)\n",
    "insert(table,93,93)\n",
    "print(table)\n",
    "insert(table,17,17)\n",
    "print(table)\n",
    "insert(table,77,77)\n",
    "print(table)\n",
    "insert(table,31,31)\n",
    "print(table)\n",
    "insert(table,44,44)\n",
    "print(table)\n",
    "insert(table,55,55)\n",
    "print(table)\n",
    "insert(table,20,20)"
   ]
  },
  {
   "cell_type": "code",
   "execution_count": null,
   "metadata": {},
   "outputs": [],
   "source": []
  },
  {
   "cell_type": "code",
   "execution_count": null,
   "metadata": {},
   "outputs": [],
   "source": []
  }
 ],
 "metadata": {
  "kernelspec": {
   "display_name": "Python 3",
   "language": "python",
   "name": "python3"
  },
  "language_info": {
   "codemirror_mode": {
    "name": "ipython",
    "version": 3
   },
   "file_extension": ".py",
   "mimetype": "text/x-python",
   "name": "python",
   "nbconvert_exporter": "python",
   "pygments_lexer": "ipython3",
   "version": "3.6.5"
  }
 },
 "nbformat": 4,
 "nbformat_minor": 2
}
