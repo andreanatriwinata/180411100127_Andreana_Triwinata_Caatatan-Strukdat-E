{
 "cells": [
  {
   "cell_type": "code",
   "execution_count": 1,
   "metadata": {},
   "outputs": [
    {
     "name": "stdout",
     "output_type": "stream",
     "text": [
      "[1, 4, 2, 5, 8]\n",
      "[1, 2, 4, 5, 8]\n",
      "[1, 2, 4, 5, 8]\n",
      "[1, 2, 4, 5, 8]\n"
     ]
    }
   ],
   "source": [
    "#bubble short#\n",
    "def bubble(list):\n",
    "    jumlah=int(len(list)-1)\n",
    "    for i in range(jumlah,0,-1):\n",
    "        for j in range (i):\n",
    "            if list[j]>list[j+1]:\n",
    "                temp=list[j]\n",
    "                list[j]=list[j+1]\n",
    "                list[j+1]=temp\n",
    "        print(list)\n",
    "                \n",
    "list=[5,1,4,2,8]\n",
    "bubble(list)"
   ]
  },
  {
   "cell_type": "code",
   "execution_count": 2,
   "metadata": {},
   "outputs": [
    {
     "ename": "SyntaxError",
     "evalue": "invalid syntax (<ipython-input-2-f35d08dc62e9>, line 7)",
     "output_type": "error",
     "traceback": [
      "\u001b[1;36m  File \u001b[1;32m\"<ipython-input-2-f35d08dc62e9>\"\u001b[1;36m, line \u001b[1;32m7\u001b[0m\n\u001b[1;33m    for position <= last and not found:\u001b[0m\n\u001b[1;37m                  ^\u001b[0m\n\u001b[1;31mSyntaxError\u001b[0m\u001b[1;31m:\u001b[0m invalid syntax\n"
     ]
    }
   ],
   "source": [
    "    #search dari depan\\n,\n",
    "search=2\n",
    "myList=[1,2,3,4,5,6]\n",
    "position=myList[0]\n",
    "last=len(myList)-1\n",
    "found=True\n",
    "    for i in range (len(myList)-1):\n",
    "        for j in range (i):\n",
    "            if \n",
    "        else:\n",
    "            position=position+1\n",
    "    if found:\n",
    "        print(\"Found the search number: \")\n",
    "        print(position)\n",
    "    else:\n",
    "        print(\"Did not find the search number: \")"
   ]
  },
  {
   "cell_type": "code",
   "execution_count": null,
   "metadata": {},
   "outputs": [],
   "source": [
    "list=[int(input(\"masukkan angka pertama di list= \"))]\n",
    "list.append(int(input(\"masukkan angka kedua= \")))\n",
    "x=\"y\"\n",
    "\n",
    "while x==\"y\":\n",
    "    list.append(int(input(\"masukkan angka selanjutnya= \")))\n",
    "    x=str(input(\"lanjut(y/t): \"))\n",
    "\n",
    "print(list)\n",
    "p=len(list)\n",
    "q=len(list)\n",
    "for j in range (0,p):\n",
    "    for i in range (0,q):\n",
    "        if list[i]>=list[i+1]:\n",
    "            swap=list[i]\n",
    "            list[i]=list[i+1]\n",
    "            list[i+1]=swap\n",
    "print(list)"
   ]
  },
  {
   "cell_type": "code",
   "execution_count": 5,
   "metadata": {},
   "outputs": [
    {
     "name": "stdout",
     "output_type": "stream",
     "text": [
      "[1, 2, 4, 5, 8]\n"
     ]
    },
    {
     "ename": "IndexError",
     "evalue": "list index out of range",
     "output_type": "error",
     "traceback": [
      "\u001b[1;31m---------------------------------------------------------------------------\u001b[0m",
      "\u001b[1;31mIndexError\u001b[0m                                Traceback (most recent call last)",
      "\u001b[1;32m<ipython-input-5-98978a93944a>\u001b[0m in \u001b[0;36m<module>\u001b[1;34m()\u001b[0m\n\u001b[0;32m     11\u001b[0m \u001b[1;32mfor\u001b[0m \u001b[0mj\u001b[0m \u001b[1;32min\u001b[0m \u001b[0mrange\u001b[0m \u001b[1;33m(\u001b[0m\u001b[1;36m0\u001b[0m\u001b[1;33m,\u001b[0m\u001b[0mp\u001b[0m\u001b[1;33m)\u001b[0m\u001b[1;33m:\u001b[0m\u001b[1;33m\u001b[0m\u001b[0m\n\u001b[0;32m     12\u001b[0m     \u001b[1;32mfor\u001b[0m \u001b[0mi\u001b[0m \u001b[1;32min\u001b[0m \u001b[0mrange\u001b[0m \u001b[1;33m(\u001b[0m\u001b[1;36m0\u001b[0m\u001b[1;33m,\u001b[0m\u001b[0mq\u001b[0m\u001b[1;33m)\u001b[0m\u001b[1;33m:\u001b[0m\u001b[1;33m\u001b[0m\u001b[0m\n\u001b[1;32m---> 13\u001b[1;33m         \u001b[1;32mif\u001b[0m \u001b[0mlist\u001b[0m\u001b[1;33m[\u001b[0m\u001b[0mi\u001b[0m\u001b[1;33m]\u001b[0m\u001b[1;33m>=\u001b[0m\u001b[0mlist\u001b[0m\u001b[1;33m[\u001b[0m\u001b[0mi\u001b[0m\u001b[1;33m+\u001b[0m\u001b[1;36m1\u001b[0m\u001b[1;33m]\u001b[0m\u001b[1;33m:\u001b[0m\u001b[1;33m\u001b[0m\u001b[0m\n\u001b[0m\u001b[0;32m     14\u001b[0m             \u001b[0mswap\u001b[0m\u001b[1;33m=\u001b[0m\u001b[0mlist\u001b[0m\u001b[1;33m[\u001b[0m\u001b[0mi\u001b[0m\u001b[1;33m]\u001b[0m\u001b[1;33m\u001b[0m\u001b[0m\n\u001b[0;32m     15\u001b[0m             \u001b[0mlist\u001b[0m\u001b[1;33m[\u001b[0m\u001b[0mi\u001b[0m\u001b[1;33m]\u001b[0m\u001b[1;33m=\u001b[0m\u001b[0mlist\u001b[0m\u001b[1;33m[\u001b[0m\u001b[0mi\u001b[0m\u001b[1;33m+\u001b[0m\u001b[1;36m1\u001b[0m\u001b[1;33m]\u001b[0m\u001b[1;33m\u001b[0m\u001b[0m\n",
      "\u001b[1;31mIndexError\u001b[0m: list index out of range"
     ]
    }
   ],
   "source": [
    "#bubble short menggunakan for#\n",
    "search=2\n",
    "myList=[1,2,3,4,5,6]\n",
    "position=myList[0]\n",
    "last=len(myList)-1\n",
    "found=True\n",
    "\n",
    "print(list)\n",
    "p=len(list)\n",
    "q=len(list)\n",
    "for j in range (0,p):\n",
    "    for i in range (0,q):\n",
    "        if list[i]>=list[i+1]:\n",
    "            swap=list[i]\n",
    "            list[i]=list[i+1]\n",
    "            list[i+1]=swap\n",
    "print(list)"
   ]
  },
  {
   "cell_type": "code",
   "execution_count": 4,
   "metadata": {},
   "outputs": [
    {
     "name": "stdout",
     "output_type": "stream",
     "text": [
      "[13, 29, 36, 51, 52, 66, 72, 87, 98]\n"
     ]
    }
   ],
   "source": [
    "#selection short#\n",
    "def selectionSort(DaftarAngka):\n",
    "   for isi in range(len(DaftarAngka)-1,0,-1):\n",
    "       x=0\n",
    "       for posisi in range(1,isi+1):\n",
    "           if DaftarAngka[posisi]>DaftarAngka[x]:\n",
    "               x = posisi\n",
    "\n",
    "       temp = DaftarAngka[isi]\n",
    "       DaftarAngka[isi] = DaftarAngka[x]\n",
    "       DaftarAngka[x] = temp\n",
    "\n",
    "\n",
    "DaftarAngka = [29,72,98,13,87,66,52,51,36]\n",
    "selectionSort(DaftarAngka)\n",
    "print(DaftarAngka)\n"
   ]
  },
  {
   "cell_type": "code",
   "execution_count": 16,
   "metadata": {},
   "outputs": [
    {
     "name": "stdout",
     "output_type": "stream",
     "text": [
      "[1, 2, 4, 5, 8]\n"
     ]
    },
    {
     "ename": "NameError",
     "evalue": "name 'mylist' is not defined",
     "output_type": "error",
     "traceback": [
      "\u001b[1;31m---------------------------------------------------------------------------\u001b[0m",
      "\u001b[1;31mNameError\u001b[0m                                 Traceback (most recent call last)",
      "\u001b[1;32m<ipython-input-16-237ae17bcb40>\u001b[0m in \u001b[0;36m<module>\u001b[1;34m()\u001b[0m\n\u001b[0;32m     15\u001b[0m             \u001b[0mmylist\u001b[0m\u001b[1;33m[\u001b[0m\u001b[0mi\u001b[0m\u001b[1;33m]\u001b[0m \u001b[1;33m=\u001b[0m \u001b[0mmylist\u001b[0m\u001b[1;33m[\u001b[0m\u001b[0miMin\u001b[0m\u001b[1;33m]\u001b[0m\u001b[1;33m\u001b[0m\u001b[0m\n\u001b[0;32m     16\u001b[0m             \u001b[0mmylist\u001b[0m\u001b[1;33m[\u001b[0m\u001b[0miMin\u001b[0m\u001b[1;33m]\u001b[0m \u001b[1;33m=\u001b[0m \u001b[0mtemp\u001b[0m\u001b[1;33m\u001b[0m\u001b[0m\n\u001b[1;32m---> 17\u001b[1;33m \u001b[0mprint\u001b[0m\u001b[1;33m(\u001b[0m\u001b[0mmylist\u001b[0m\u001b[1;33m)\u001b[0m\u001b[1;33m\u001b[0m\u001b[0m\n\u001b[0m",
      "\u001b[1;31mNameError\u001b[0m: name 'mylist' is not defined"
     ]
    }
   ],
   "source": [
    "#selection short#\n",
    "\n",
    "myList=[1,2,100,5,50]\n",
    "position=len(myList)-1\n",
    "last=0\n",
    "\n",
    "print(list)\n",
    "p=len(list)\n",
    "q=len(list)\n",
    "for i in range(last):\n",
    "    imin = i\n",
    "    for imin in range (len(mylist)):\n",
    "        if mylist[i] < mylist[iMin]:\n",
    "            temp = mylist[i]\n",
    "            mylist[i] = mylist[iMin]\n",
    "            mylist[iMin] = temp\n",
    "print(mylist)"
   ]
  },
  {
   "cell_type": "code",
   "execution_count": 15,
   "metadata": {},
   "outputs": [
    {
     "name": "stdout",
     "output_type": "stream",
     "text": [
      "[1, 2, 3, 4, 5, 6]\n",
      "[1, 2, 3, 4, 5, 6]\n",
      "[2, 1, 3, 4, 5, 6]\n",
      "[3, 2, 1, 4, 5, 6]\n",
      "[4, 3, 2, 1, 5, 6]\n",
      "[5, 4, 3, 2, 1, 6]\n",
      "jumlah iterasi:  6 kali\n",
      "[6, 5, 4, 3, 2, 1]\n"
     ]
    }
   ],
   "source": [
    "#selection short, max > depan\n",
    "\n",
    "myList=[1,2,3,4,5,6]\n",
    "position=len(myList)-1\n",
    "last=0\n",
    "iterasi=0\n",
    "found=False\n",
    "for x in range (len(myList)):\n",
    "    print(myList)\n",
    "    iterasi = iterasi + 1\n",
    "    for y in range (position):\n",
    "        if myList[x] > myList[y]:\n",
    "            temp=myList[x]\n",
    "            myList[x]=myList[y]\n",
    "            myList[y]=temp\n",
    "print(\"jumlah iterasi: \",iterasi, \"kali\")\n",
    "print(myList)"
   ]
  },
  {
   "cell_type": "code",
   "execution_count": 17,
   "metadata": {},
   "outputs": [
    {
     "name": "stdout",
     "output_type": "stream",
     "text": [
      "[3, 6, 8, 1, 2]\n",
      "[3, 6, 8, 1, 2]\n",
      "[3, 6, 8, 1, 2]\n",
      "[1, 6, 8, 3, 2]\n",
      "[1, 6, 8, 3, 2]\n",
      "[1, 6, 8, 3, 2]\n",
      "[1, 3, 8, 6, 2]\n",
      "[1, 2, 8, 6, 3]\n",
      "[1, 2, 6, 8, 3]\n",
      "[1, 2, 3, 8, 6]\n",
      "[1, 2, 3, 6, 8]\n",
      "[1, 2, 3, 6, 8]\n",
      "11\n"
     ]
    }
   ],
   "source": [
    "myList=[3,6,8,1,2]\n",
    "print(myList)\n",
    "iterasi = 1\n",
    "for j in range (0,len(myList)-1,1):\n",
    "    for i in range (j+1, len(myList),1):\n",
    "        iterasi+=1\n",
    "        if myList [j]>myList[i]:\n",
    "            a= myList[j]\n",
    "            myList[j], myList[i]=myList[i],myList[j]\n",
    "        print(myList)\n",
    "print(myList)\n",
    "print(iterasi)"
   ]
  },
  {
   "cell_type": "code",
   "execution_count": 18,
   "metadata": {},
   "outputs": [
    {
     "ename": "TypeError",
     "evalue": "range expected at most 3 arguments, got 4",
     "output_type": "error",
     "traceback": [
      "\u001b[1;31m---------------------------------------------------------------------------\u001b[0m",
      "\u001b[1;31mTypeError\u001b[0m                                 Traceback (most recent call last)",
      "\u001b[1;32m<ipython-input-18-dc991a1516f7>\u001b[0m in \u001b[0;36m<module>\u001b[1;34m()\u001b[0m\n\u001b[0;32m      1\u001b[0m \u001b[0mlist\u001b[0m\u001b[1;33m=\u001b[0m\u001b[1;33m[\u001b[0m\u001b[1;36m6\u001b[0m\u001b[1;33m,\u001b[0m\u001b[1;36m3\u001b[0m\u001b[1;33m,\u001b[0m\u001b[1;36m2\u001b[0m\u001b[1;33m,\u001b[0m\u001b[1;36m4\u001b[0m\u001b[1;33m,\u001b[0m\u001b[1;36m5\u001b[0m\u001b[1;33m]\u001b[0m\u001b[1;33m\u001b[0m\u001b[0m\n\u001b[1;32m----> 2\u001b[1;33m \u001b[1;32mfor\u001b[0m \u001b[0mi\u001b[0m \u001b[1;32min\u001b[0m \u001b[0mrange\u001b[0m\u001b[1;33m(\u001b[0m\u001b[1;36m0\u001b[0m\u001b[1;33m,\u001b[0m\u001b[0mlen\u001b[0m\u001b[1;33m(\u001b[0m\u001b[0mlist\u001b[0m\u001b[1;33m)\u001b[0m\u001b[1;33m-\u001b[0m\u001b[1;36m1\u001b[0m\u001b[1;33m,\u001b[0m\u001b[1;36m0\u001b[0m\u001b[1;33m,\u001b[0m\u001b[1;33m-\u001b[0m\u001b[1;36m1\u001b[0m\u001b[1;33m)\u001b[0m\u001b[1;33m:\u001b[0m\u001b[1;33m\u001b[0m\u001b[0m\n\u001b[0m\u001b[0;32m      3\u001b[0m     \u001b[0mlast\u001b[0m\u001b[1;33m=\u001b[0m\u001b[1;36m0\u001b[0m\u001b[1;33m\u001b[0m\u001b[0m\n\u001b[0;32m      4\u001b[0m     \u001b[0mprint\u001b[0m\u001b[1;33m(\u001b[0m\u001b[0mlist\u001b[0m\u001b[1;33m)\u001b[0m\u001b[1;33m\u001b[0m\u001b[0m\n\u001b[0;32m      5\u001b[0m     \u001b[1;32mfor\u001b[0m \u001b[0mlocation\u001b[0m \u001b[1;32min\u001b[0m \u001b[0mrange\u001b[0m\u001b[1;33m(\u001b[0m\u001b[1;36m1\u001b[0m\u001b[1;33m,\u001b[0m\u001b[0mi\u001b[0m\u001b[1;33m+\u001b[0m\u001b[1;36m1\u001b[0m\u001b[1;33m)\u001b[0m\u001b[1;33m:\u001b[0m\u001b[1;33m\u001b[0m\u001b[0m\n",
      "\u001b[1;31mTypeError\u001b[0m: range expected at most 3 arguments, got 4"
     ]
    }
   ],
   "source": [
    "list=[6,3,2,4,5]\n",
    "for i in range(0,len(list)-1,0,-1):\n",
    "    last=0\n",
    "    print(list)\n",
    "    for location in range(1,i+1):\n",
    "        if list[location]<list[last]:\n",
    "            last=location\n",
    "    temp=list[i]\n",
    "    list[i]=list[last]\n",
    "    list[last]=temp\n",
    "    \n",
    "print(list)"
   ]
  },
  {
   "cell_type": "code",
   "execution_count": 20,
   "metadata": {},
   "outputs": [
    {
     "name": "stdout",
     "output_type": "stream",
     "text": [
      "[54, 26, 93, 77, 20]\n",
      "[20, 26, 93, 77, 54]\n",
      "[20, 26, 93, 77, 54]\n",
      "[20, 26, 93, 77, 54]\n",
      "[20, 26, 93, 77, 54]\n",
      "[20, 26, 54, 77, 93]\n",
      "[20, 26, 54, 77, 93]\n",
      "[20, 26, 54, 77, 93]\n",
      "[20, 26, 54, 77, 93]\n",
      "[20, 26, 54, 77, 93]\n"
     ]
    }
   ],
   "source": [
    "I=[54,26,93,77,20]\n",
    "for i in range(len(I)):\n",
    "    print(I)\n",
    "    max_ind=i\n",
    "    for j in range((i+1),len(I)):\n",
    "        if I[j]<I[max_ind]:\n",
    "            max_ind=j\n",
    "    I[i], I[max_ind]=I[max_ind],I[i]\n",
    "    print(I)"
   ]
  },
  {
   "cell_type": "code",
   "execution_count": null,
   "metadata": {},
   "outputs": [],
   "source": []
  }
 ],
 "metadata": {
  "kernelspec": {
   "display_name": "Python 3",
   "language": "python",
   "name": "python3"
  },
  "language_info": {
   "codemirror_mode": {
    "name": "ipython",
    "version": 3
   },
   "file_extension": ".py",
   "mimetype": "text/x-python",
   "name": "python",
   "nbconvert_exporter": "python",
   "pygments_lexer": "ipython3",
   "version": "3.6.5"
  }
 },
 "nbformat": 4,
 "nbformat_minor": 2
}
