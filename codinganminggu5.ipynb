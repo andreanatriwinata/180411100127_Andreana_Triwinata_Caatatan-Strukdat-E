{
 "cells": [
  {
   "cell_type": "code",
   "execution_count": 3,
   "metadata": {},
   "outputs": [
    {
     "name": "stdout",
     "output_type": "stream",
     "text": [
      "[4, 5, 2, 3, 6, 1]\n",
      "[4, 5, 2, 3, 6, 1]\n",
      "[2, 4, 5, 3, 6, 1]\n",
      "[2, 3, 4, 5, 6, 1]\n",
      "[2, 3, 4, 5, 6, 1]\n",
      "x [1, 2, 3, 4, 5, 6]\n"
     ]
    }
   ],
   "source": [
    "#insertion sort\n",
    "x = [4,5,2,3,6,1]\n",
    "for i in range(1, len(x)):\n",
    "    value = x[i]\n",
    "    hole = i\n",
    "    print (x)\n",
    "    while hole > 0 and x[hole - 1] > value:\n",
    "        x[hole] = x[hole - 1]\n",
    "        hole -= 1\n",
    "    x[hole] = value\n",
    "print(\"x\", x)"
   ]
  },
  {
   "cell_type": "code",
   "execution_count": 7,
   "metadata": {},
   "outputs": [
    {
     "name": "stdout",
     "output_type": "stream",
     "text": [
      "[4, 5, 2, 3, 6, 1]\n",
      "[5, 4, 2, 3, 6, 1]\n",
      "[5, 4, 2, 3, 6, 1]\n",
      "[5, 4, 3, 2, 6, 1]\n",
      "[6, 5, 4, 3, 2, 1]\n",
      "x [6, 5, 4, 3, 2, 1]\n"
     ]
    }
   ],
   "source": [
    "#insertion sort\n",
    "x = [4,5,2,3,6,1]\n",
    "for i in range(1, len(x)):\n",
    "    value = x[i]\n",
    "    hole = i\n",
    "    print (x)\n",
    "    while hole > 0 and x[hole - 1] < value:\n",
    "        x[hole] = x[hole - 1]\n",
    "        hole -= 1\n",
    "    x[hole] = value\n",
    "print(\"x\", x)"
   ]
  },
  {
   "cell_type": "code",
   "execution_count": 11,
   "metadata": {},
   "outputs": [
    {
     "name": "stdout",
     "output_type": "stream",
     "text": [
      "[0, 1, 2, 4, 6, 56, 100, 500]\n"
     ]
    }
   ],
   "source": [
    "#quick sort\n",
    "def QuickSortAwal(A):\n",
    "    QuickSort(A, 0, len(A)-1)\n",
    "    \n",
    "def QuickSort(A, start, end):\n",
    "    if start < end:\n",
    "        pIndex = Partition(A, start, end)\n",
    "        QuickSort(A, start, pIndex-1)\n",
    "        QuickSort(A, pIndex+1, end)\n",
    "    \n",
    "def Partition(A, start, end):\n",
    "    pivot = A[end]\n",
    "    pIndex = start\n",
    "    for i in range(start, end):\n",
    "        if (A[i] <= pivot):\n",
    "            A[i], A[pIndex] = A[pIndex], A[i]\n",
    "            pIndex = pIndex+1\n",
    "    A[pIndex], A[end] = A[end], A[pIndex]\n",
    "    return pIndex\n",
    "            \n",
    "A=[100,6,500,4,56,2,1,0]\n",
    "QuickSortAwal(A)\n",
    "print(A)"
   ]
  },
  {
   "cell_type": "code",
   "execution_count": 18,
   "metadata": {},
   "outputs": [
    {
     "name": "stdout",
     "output_type": "stream",
     "text": [
      "[1, 6, 0, 4, 56, 2, 100, 500]\n",
      "[0, 1, 6, 4, 56, 2, 100, 500]\n",
      "[0, 1, 2, 4, 6, 56, 100, 500]\n",
      "[0, 1, 2, 4, 6, 56, 100, 500]\n",
      "[0, 1, 2, 4, 6, 56, 100, 500]\n"
     ]
    }
   ],
   "source": [
    "def QuickSortAwal(A):\n",
    "    QuickSort(A, 0, len(A)-1)\n",
    "    \n",
    "def QuickSort(A, start, end):\n",
    "    if start < end:\n",
    "        pIndex = Partition(A, start, end)\n",
    "        QuickSort(A, start, pIndex-1)\n",
    "        QuickSort(A, pIndex+1, end)\n",
    "    \n",
    "def Partition(A, start, end):\n",
    "    pivot = A[start]\n",
    "    pIndex = end\n",
    "    for i in range(end, start,-1):\n",
    "        if (A[i] >= pivot):\n",
    "            A[i], A[pIndex] = A[pIndex], A[i]\n",
    "            pIndex = pIndex-1\n",
    "    A[pIndex], A[start] = A[start], A[pIndex]\n",
    "    print(A)\n",
    "    return pIndex\n",
    "            \n",
    "A=[100,6,500,4,56,2,1,0]\n",
    "QuickSortAwal(A)\n",
    "print(A)"
   ]
  },
  {
   "cell_type": "code",
   "execution_count": null,
   "metadata": {},
   "outputs": [],
   "source": []
  }
 ],
 "metadata": {
  "kernelspec": {
   "display_name": "Python 3",
   "language": "python",
   "name": "python3"
  },
  "language_info": {
   "codemirror_mode": {
    "name": "ipython",
    "version": 3
   },
   "file_extension": ".py",
   "mimetype": "text/x-python",
   "name": "python",
   "nbconvert_exporter": "python",
   "pygments_lexer": "ipython3",
   "version": "3.6.5"
  }
 },
 "nbformat": 4,
 "nbformat_minor": 2
}
