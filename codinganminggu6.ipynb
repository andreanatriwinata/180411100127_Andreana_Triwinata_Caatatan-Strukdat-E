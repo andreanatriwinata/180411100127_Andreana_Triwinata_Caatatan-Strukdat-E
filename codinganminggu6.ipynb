{
 "cells": [
  {
   "cell_type": "code",
   "execution_count": 5,
   "metadata": {},
   "outputs": [
    {
     "name": "stdout",
     "output_type": "stream",
     "text": [
      "[17, 20, 26, 31, 44, 54, 55, 77, 93, 99, 100]\n"
     ]
    }
   ],
   "source": [
    "def MergedSort(A):\n",
    "    n = len(A)\n",
    "    if(n<2):\n",
    "        return\n",
    "    mid=len(A)//2\n",
    "    left=A[:mid]\n",
    "    right=A[mid:]\n",
    "    MergedSort(left)\n",
    "    MergedSort(right)\n",
    "    i=0\n",
    "    j=0\n",
    "    k=0\n",
    "    while i<len(left) and j<len(right):\n",
    "        if left[i] < right[j]:\n",
    "            A[k]=left[i]\n",
    "            i=i+1\n",
    "        else:\n",
    "            A[k]=right[j]\n",
    "            j=j+1\n",
    "        k=k+1\n",
    "    while i<len(left):\n",
    "        A[k]=left[i]\n",
    "        i=i+1\n",
    "        k=k+1\n",
    "    while j<len(right):\n",
    "        A[k]=right[j]\n",
    "        j=j+1\n",
    "        k=k+1\n",
    "Alist=[54,26,93,17,99,77,31,44,55,20,100]\n",
    "MergedSort(Alist)\n",
    "print(Alist)"
   ]
  },
  {
   "cell_type": "code",
   "execution_count": 7,
   "metadata": {},
   "outputs": [
    {
     "name": "stdout",
     "output_type": "stream",
     "text": [
      "[35, 33, 42, 10, 14, 19, 27, 44]\n",
      "4\n",
      "[14, 33, 42, 10, 35, 19, 27, 44]\n",
      "4\n",
      "[14, 19, 42, 10, 35, 33, 27, 44]\n",
      "4\n",
      "[14, 19, 27, 10, 35, 33, 42, 44]\n",
      "4\n",
      "[14, 19, 27, 10, 35, 33, 42, 44]\n",
      "2\n",
      "[14, 19, 27, 10, 35, 33, 42, 44]\n",
      "[14, 19, 27, 10, 35, 33, 42, 44]\n",
      "[14, 19, 27, 10, 35, 33, 42, 44]\n",
      "2\n",
      "[14, 10, 27, 19, 35, 33, 42, 44]\n",
      "[14, 10, 27, 19, 35, 33, 42, 44]\n",
      "[14, 10, 27, 19, 35, 33, 42, 44]\n",
      "1\n",
      "[10, 14, 27, 19, 35, 33, 42, 44]\n",
      "[10, 14, 27, 19, 35, 33, 42, 44]\n",
      "[10, 14, 19, 27, 35, 33, 42, 44]\n",
      "[10, 14, 19, 27, 35, 33, 42, 44]\n",
      "[10, 14, 19, 27, 33, 35, 42, 44]\n",
      "[10, 14, 19, 27, 33, 35, 42, 44]\n",
      "[10, 14, 19, 27, 33, 35, 42, 44]\n"
     ]
    }
   ],
   "source": [
    "def shellSort(alist):\n",
    "    sublistcount=len(alist)//2\n",
    "    while sublistcount>0:\n",
    "        for startposition in range(sublistcount):\n",
    "            print(sublistcount)\n",
    "            gapInsertionSort(alist,startposition,sublistcount)\n",
    "        sublistcount=sublistcount//2\n",
    "def gapInsertionSort(alist,start,gap):\n",
    "    for i in range(start+gap,len(alist),gap):\n",
    "        currentvalue=alist[i]\n",
    "        position=i\n",
    "        while position>=gap and alist[position-gap]>currentvalue:\n",
    "            alist[position]=alist[position-gap]\n",
    "            position=position-gap\n",
    "        alist[position]=currentvalue\n",
    "        print(alist)\n",
    "alist=[35,33,42,10,14,19,27,44]\n",
    "print(alist)\n",
    "shellSort(alist)"
   ]
  },
  {
   "cell_type": "code",
   "execution_count": null,
   "metadata": {},
   "outputs": [],
   "source": []
  }
 ],
 "metadata": {
  "kernelspec": {
   "display_name": "Python 3",
   "language": "python",
   "name": "python3"
  },
  "language_info": {
   "codemirror_mode": {
    "name": "ipython",
    "version": 3
   },
   "file_extension": ".py",
   "mimetype": "text/x-python",
   "name": "python",
   "nbconvert_exporter": "python",
   "pygments_lexer": "ipython3",
   "version": "3.6.5"
  }
 },
 "nbformat": 4,
 "nbformat_minor": 2
}
